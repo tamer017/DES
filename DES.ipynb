{
 "cells": [
  {
   "cell_type": "code",
   "execution_count": 1,
   "metadata": {},
   "outputs": [],
   "source": [
    "from des_modes import *"
   ]
  },
  {
   "cell_type": "code",
   "execution_count": 2,
   "metadata": {},
   "outputs": [],
   "source": [
    "def compare_files(file1_path, file2_path):\n",
    "    # Open the two files\n",
    "    with open(file1_path, 'r') as file1, open(file2_path, 'r') as file2:\n",
    "        # Read the contents of the files\n",
    "        content1 = file1.read()\n",
    "        content2 = file2.read()\n",
    "\n",
    "        # Compare the contents of the files\n",
    "        if content1 == content2:\n",
    "            print(f\"The files {file1_path} and {file2_path} are the same\")\n",
    "        else:\n",
    "            print(f\"The files {file1_path} and {file2_path} are different\")\n"
   ]
  },
  {
   "cell_type": "code",
   "execution_count": 92,
   "metadata": {},
   "outputs": [
    {
     "data": {
      "text/plain": [
       "'aghdgytsgbcsgkaXLk;cskc;,l,cmlksklzxmlkznkldjcnjnlcmklzcljzclkcnlx43c46813ds/./czlps vnkds k kdsji djckmk n jvsdmj mdslj; m ldsjlkvjssqioowow1@@@@@@ ££££33$$'"
      ]
     },
     "execution_count": 92,
     "metadata": {},
     "output_type": "execute_result"
    }
   ],
   "source": [
    "plain_text = \"aghdgytsgbcsgkaXLk;cskc;,l,cmlksklzxmlkznkldjcnjnlcmklzcljzclkcnlx43c46813ds/./czlps vnkds k kdsji djckmk n jvsdmj mdslj; m ldsjlkvjssqioowow1@@@@@@ ££££33$$\"\n",
    "key  = \"AABB09182736CCDD\"\n",
    "iv = \"1212121213131313\"\n",
    "cipher_text = Des(plain_text, key, input_type = \"utf-8\",output_type=\"base64\", padding_type = \"zeros\", iv = iv, mode= \"CBC\",encryption= True)\n",
    "Des(cipher_text, key, input_type = \"base64\", output_type=\"utf-8\", padding_type = \"zeros\", iv = iv, mode= \"CBC\",encryption= False)\n"
   ]
  },
  {
   "cell_type": "code",
   "execution_count": null,
   "metadata": {},
   "outputs": [],
   "source": [
    "with open(\"text.txt\") as text, open('out.txt',\"w\") as out, open(\"new_text.txt\",'w') as new_text:\n",
    "    plain_text = text.read()\n",
    "    key  = \"AABB09182736CCDD\"\n",
    "    iv = \"1212121213131313\"\n",
    "    cipher_text = Des(plain_text, key, input_type = \"utf-8\",output_type=\"base64\", padding_type = \"symmetric\", iv = iv, mode= \"CBc\",encryption= True)\n",
    "\n",
    "    lines = [cipher_text[i:i+76] for i in range(0, len(cipher_text), 76)]\n",
    "    for line in lines:\n",
    "        out.write(line + '\\n')\n",
    "\n",
    "    new_plain_text = Des(cipher_text, key, input_type = \"base64\", output_type=\"utf-8\", padding_type = \"symmetric\", iv = iv, mode= \"CBC\",encryption= False)\n",
    " \n",
    "    new_text.write(new_plain_text)\n"
   ]
  },
  {
   "cell_type": "code",
   "execution_count": 6,
   "metadata": {},
   "outputs": [
    {
     "name": "stdout",
     "output_type": "stream",
     "text": [
      "Requirement already satisfied: Crypto in /home/tamer/anaconda3/lib/python3.10/site-packages (1.4.1)\n",
      "Requirement already satisfied: shellescape in /home/tamer/anaconda3/lib/python3.10/site-packages (from Crypto) (3.8.1)\n",
      "Requirement already satisfied: Naked in /home/tamer/anaconda3/lib/python3.10/site-packages (from Crypto) (0.1.32)\n",
      "Requirement already satisfied: pyyaml in /home/tamer/anaconda3/lib/python3.10/site-packages (from Naked->Crypto) (6.0)\n",
      "Requirement already satisfied: requests in /home/tamer/anaconda3/lib/python3.10/site-packages (from Naked->Crypto) (2.28.1)\n",
      "Requirement already satisfied: urllib3<1.27,>=1.21.1 in /home/tamer/anaconda3/lib/python3.10/site-packages (from requests->Naked->Crypto) (1.26.14)\n",
      "Requirement already satisfied: idna<4,>=2.5 in /home/tamer/anaconda3/lib/python3.10/site-packages (from requests->Naked->Crypto) (3.4)\n",
      "Requirement already satisfied: certifi>=2017.4.17 in /home/tamer/anaconda3/lib/python3.10/site-packages (from requests->Naked->Crypto) (2022.12.7)\n",
      "Requirement already satisfied: charset-normalizer<3,>=2 in /home/tamer/anaconda3/lib/python3.10/site-packages (from requests->Naked->Crypto) (2.0.4)\n"
     ]
    }
   ],
   "source": [
    "!pip3 install Crypto"
   ]
  },
  {
   "cell_type": "code",
   "execution_count": 9,
   "metadata": {},
   "outputs": [],
   "source": [
    "def decrypt_file():\n",
    "    global file_path\n",
    "    if file_path != \"\":\n",
    "        with open(file_path) as input, open(file_path+\"_decrypted\",\"w\") as output:\n",
    "            plain_text = input.read()\n",
    "            new_plain_text = Des(plain_text, key_entry.get(), input_type = encoding_var.get() ,output_type=decoding_var.get(), padding_type = padding_var.get(), iv = iv_entry.get(), mode= mode_var.get(),encryption= False)\n",
    "            output.write(new_plain_text)\n",
    "\n",
    "\n",
    "def encrypt_file():\n",
    "    global file_path\n",
    "    if file_path != \"\":\n",
    "        with open(file_path) as input, open(file_path+\"_encrypted\",\"w\") as output:\n",
    "            plain_text = input.read()\n",
    "            cipher_text = Des(plain_text, key_entry.get(), input_type = encoding_var.get() ,output_type=decoding_var.get(), padding_type = padding_var.get(), iv = iv_entry.get(), mode= mode_var.get(),encryption= True)\n",
    "\n",
    "            lines = [cipher_text[i:i+76] for i in range(0, len(cipher_text), 76)]\n",
    "            for line in lines:\n",
    "                output.write(line + '\\n')\n",
    "\n"
   ]
  },
  {
   "cell_type": "code",
   "execution_count": 10,
   "metadata": {},
   "outputs": [
    {
     "name": "stdout",
     "output_type": "stream",
     "text": [
      "/home/tamer/Downloads/DES/text.txt\n",
      "/home/tamer/Downloads/DES/text.txt\n"
     ]
    }
   ],
   "source": [
    "import tkinter as tk\n",
    "from tkinter import filedialog\n",
    "import os\n",
    "\n",
    "# Create the root window\n",
    "root = tk.Tk()\n",
    "root.title(\"DES file Encryptor and Decryptor\")\n",
    "root.geometry(\"500x500\")\n",
    "file_path = \"\"\n",
    "\n",
    "# Create the file selection label and browse button\n",
    "\n",
    "def browse_file():\n",
    "    global file_path\n",
    "    file_path = filedialog.askopenfilename()\n",
    "    file_label.config(text=f\"File selected: {os.path.basename(file_path)}\")\n",
    "\n",
    "def show_action_field(action):\n",
    "    if action == \"Encrypt\":\n",
    "        encrypt_button.pack()\n",
    "        decrypt_button.pack_forget()\n",
    "    else:\n",
    "        decrypt_button.pack()\n",
    "        encrypt_button.pack_forget()\n",
    "\n",
    "# Create the action selection label and radio buttons\n",
    "action_frame = tk.Frame(root)\n",
    "action_frame.pack(pady=10)\n",
    "action_label = tk.Label(action_frame, text=\"Select action:\", width=20, anchor=\"w\")\n",
    "action_label.grid(row=0, column=0, padx=(0, 10))\n",
    "action_var = tk.StringVar()\n",
    "action_var.set(\"Encrypt\")\n",
    "action_optionmenu = tk.OptionMenu(action_frame, action_var, \"Encrypt\", \"Decrypt\",command=show_action_field)\n",
    "action_optionmenu.grid(row=0, column=1)\n",
    "\n",
    "# Create the encoding selection label and drop-down list\n",
    "encoding_frame = tk.Frame(root)\n",
    "encoding_frame.pack(pady=10)\n",
    "encoding_label = tk.Label(encoding_frame, text=\"Select encoding:\", width=20, anchor=\"w\")\n",
    "encoding_label.grid(row=0, column=0, padx=(0, 10))\n",
    "encoding_var = tk.StringVar()\n",
    "encoding_var.set(\"utf-8\")\n",
    "encoding_optionmenu = tk.OptionMenu(encoding_frame, encoding_var, \"utf-8\", \"hexa\", \"base64\")\n",
    "encoding_optionmenu.grid(row=0, column=1)\n",
    "\n",
    "# Create the decoding selection label and drop-down list\n",
    "decoding_frame = tk.Frame(root)\n",
    "decoding_frame.pack(pady=10)\n",
    "decoding_label = tk.Label(decoding_frame, text=\"Select decoding:\", width=20, anchor=\"w\")\n",
    "decoding_label.grid(row=0, column=0, padx=(0, 10))\n",
    "decoding_var = tk.StringVar()\n",
    "decoding_var.set(\"utf-8\")\n",
    "decoding_optionmenu = tk.OptionMenu(decoding_frame, decoding_var, \"utf-8\", \"hexa\", \"base64\")\n",
    "decoding_optionmenu.grid(row=0, column=1)\n",
    "\n",
    "# Create the mode selection\n",
    "mode_frame = tk.Frame(root)\n",
    "mode_frame.pack(pady=10)\n",
    "mode_label = tk.Label(mode_frame, text=\"Select encryption mode:\", width=20, anchor=\"w\")\n",
    "mode_label.grid(row=0, column=0, padx=(0, 10))\n",
    "mode_var = tk.StringVar()\n",
    "mode_var.set(\"ECB\")\n",
    "mode_optionmenu = tk.OptionMenu(mode_frame, mode_var, \"ECB\", \"CBC\")\n",
    "mode_optionmenu.grid(row=0, column=1)\n",
    "\n",
    "# Create the padding selection\n",
    "padding_frame = tk.Frame(root)\n",
    "padding_frame.pack(pady=10)\n",
    "padding_label = tk.Label(padding_frame, text=\"Select padding technique:\", width=20, anchor=\"w\")\n",
    "padding_label.grid(row=0, column=0, padx=(0, 10))\n",
    "padding_var = tk.StringVar()\n",
    "padding_var.set(\"symmetric\")\n",
    "mode_optionmenu = tk.OptionMenu(padding_frame, padding_var, \"symmetric\", \"zeros\")\n",
    "mode_optionmenu.grid(row=0, column=1)\n",
    "\n",
    "# Create the key label and entry box\n",
    "key_frame = tk.Frame(root)\n",
    "key_frame.pack(pady=10)\n",
    "key_label = tk.Label(key_frame, text=\"key in Hexa:\", width=20, anchor=\"w\")\n",
    "key_label.grid(row=0, column=0, padx=(0, 10))\n",
    "key_entry = tk.Entry(key_frame, width=20)\n",
    "key_entry.grid(row=0, column=1)\n",
    "\n",
    "# Create the IV selection label and entry field\n",
    "iv_frame = tk.Frame(root)\n",
    "iv_frame.pack(pady=10)\n",
    "iv_label = tk.Label(iv_frame, text=\"IV in Hexa (CBC only):\", width=20, anchor=\"w\")\n",
    "iv_label.grid(row=0, column=0, padx=(0, 10))\n",
    "iv_entry = tk.Entry(iv_frame, width=20)\n",
    "iv_entry.grid(row=0, column=1)\n",
    "\n",
    "browse_button = tk.Button(root, text=\"Browse\", command=browse_file)\n",
    "browse_button.pack()\n",
    "file_label = tk.Label(root, text=\"No file selected.\")\n",
    "file_label.pack(pady=5)\n",
    "\n",
    "encrypt_button = tk.Button(root, text=\"Encrypt\", command=encrypt_file)\n",
    "encrypt_button.pack()\n",
    "decrypt_button = tk.Button(root, text=\"Decrypt\", command=decrypt_file)\n",
    "\n",
    "# Create the message label\n",
    "message_label = tk.Label(root, text=\"\")\n",
    "message_label.pack()\n",
    "\n",
    "# Start the main event loop\n",
    "root.mainloop()\n"
   ]
  },
  {
   "cell_type": "code",
   "execution_count": 47,
   "metadata": {},
   "outputs": [],
   "source": []
  },
  {
   "cell_type": "code",
   "execution_count": null,
   "metadata": {},
   "outputs": [],
   "source": []
  }
 ],
 "metadata": {
  "kernelspec": {
   "display_name": "Python 3",
   "language": "python",
   "name": "python3"
  },
  "language_info": {
   "codemirror_mode": {
    "name": "ipython",
    "version": 3
   },
   "file_extension": ".py",
   "mimetype": "text/x-python",
   "name": "python",
   "nbconvert_exporter": "python",
   "pygments_lexer": "ipython3",
   "version": "3.10.9"
  },
  "orig_nbformat": 4
 },
 "nbformat": 4,
 "nbformat_minor": 2
}
